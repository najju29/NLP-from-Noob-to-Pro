{
  "nbformat": 4,
  "nbformat_minor": 0,
  "metadata": {
    "accelerator": "GPU",
    "colab": {
      "name": "Custom Word Embeddings with PyTorch.ipynb",
      "provenance": [],
      "collapsed_sections": [],
      "toc_visible": true
    },
    "kernelspec": {
      "display_name": "Python 3",
      "name": "python3"
    },
    "language_info": {
      "name": "python"
    }
  },
  "cells": [
    {
      "cell_type": "markdown",
      "metadata": {
        "id": "ijrQpDETHNBD"
      },
      "source": [
        "# What are Word Embeddings ?\n",
        "- Word embeddings are a type of word representation that allows words with similar meaning to have a similar representation.\n",
        "- They are a distributed representation for text that is perhaps one of the key breakthroughs for the impressive performance of deep learning methods on challenging **Natural Language Processing** problems.\n",
        "- <img src=\"https://miro.medium.com/max/1838/1*OEmWDt4eztOcm5pr2QbxfA.png\" width=\"800\" height=\"300\">\n",
        "- You can see in the above image that the formed word embeddings indicate the relationship in between them in terms of distance more than the normal one-hot encoding vevtors.\n",
        "- This relation calculating metric can be anything like cosine similarity, Manhattan distance, Euclidean Distance etc.\n",
        "- We can even manually enter this normalized scores based on their similarity to make better word embeddings.\n",
        "- These word embeddings can be made Manual or we can use Pre-trained ones like Word2Vec, Glove(100d, 200d, 300d), Gensim models and Etc.\n",
        "- Let us understand how it works and why is it better in a while. Firstly we will be looking at the custom word embeddings and would be moving on to the next one with a fresh notebook.\n",
        "# How are Embeddings made ? \n",
        "- <img src=\"https://www.biorxiv.org/content/biorxiv/early/2018/05/21/327601/F1.large.jpg\" width=\"800\" height=\"300\">\n",
        "- Here before LSTM Layer what ever the **matrix** you are watching is what called as an Embedding layer.\n",
        "- For each Word or Token from the embedding there is a **1-D vector** assosiated with it which is of len **Embedded Length**.\n",
        "- Here the Length of the Embedded layer can be of user's choice.\n",
        "- Basically this matrix will always be shape **Total Vocabulary X Total Vocabulary**.\n",
        "- Now let us move on to the Modelling part where we can easily understand whats happening beneath."
      ]
    },
    {
      "cell_type": "markdown",
      "metadata": {
        "id": "ExfQmbyTmVyF"
      },
      "source": [
        "# Custom Word Embedding with PyTorch"
      ]
    },
    {
      "cell_type": "markdown",
      "metadata": {
        "id": "Q8yq8O9zUvfG"
      },
      "source": [
        "## Loading and Splitting Data."
      ]
    },
    {
      "cell_type": "code",
      "metadata": {
        "id": "Qe4CebcwE-VJ"
      },
      "source": [
        "# For this we will firstly import All Important Libraries\n",
        "\n",
        "# Data handling libraries(Linear Algebra)\n",
        "import pandas as pd\n",
        "import numpy as np\n",
        "\n",
        "# Data Visualization and Managing libraries\n",
        "import matplotlib.pyplot as plt\n",
        "import seaborn as sns\n",
        "from sklearn.model_selection import train_test_split\n",
        "import time\n",
        "\n",
        "# importing Torch\n",
        "import torch\n",
        "import torch.optim as optim\n",
        "from torchtext.legacy import data\n",
        "import torch.nn as nn"
      ],
      "execution_count": 60,
      "outputs": []
    },
    {
      "cell_type": "markdown",
      "metadata": {
        "id": "NdgBvzzmQo8U"
      },
      "source": [
        "- **TorchText:**Generic data loaders, abstractions, and iterators for text (including vocabulary and word vectors) torchtext.\n",
        "- **Note**: From torchtext > 0.9.0 release notes, *torchtext.data* is now officially moved into the *torchtext.legacy.data*"
      ]
    },
    {
      "cell_type": "code",
      "metadata": {
        "id": "q6uS2DD1TNa5"
      },
      "source": [
        "# For regenrating the same results\n",
        "SEED = 2019\n",
        "torch.manual_seed(SEED)\n",
        "\n",
        "# Setting up Cuda algorithms\n",
        "torch.backends.cudnn.deterministic = True  \n",
        "torch.backends.cudnn.benchmark = False"
      ],
      "execution_count": 2,
      "outputs": []
    },
    {
      "cell_type": "markdown",
      "metadata": {
        "id": "Wr--LqfIXYH8"
      },
      "source": [
        "- Now Let us load the data and split it accordingly."
      ]
    },
    {
      "cell_type": "code",
      "metadata": {
        "id": "8RK5qUBJXXV-"
      },
      "source": [
        "imdb_data = pd.read_csv('/content/drive/MyDrive/IMDB Dataset.csv')"
      ],
      "execution_count": 3,
      "outputs": []
    },
    {
      "cell_type": "code",
      "metadata": {
        "colab": {
          "base_uri": "https://localhost:8080/",
          "height": 202
        },
        "id": "jpo3DQTFXpkj",
        "outputId": "f77fa896-4023-4d6f-b670-d8441ea6c21d"
      },
      "source": [
        "imdb_data.head()"
      ],
      "execution_count": 4,
      "outputs": [
        {
          "output_type": "execute_result",
          "data": {
            "text/html": [
              "<div>\n",
              "<style scoped>\n",
              "    .dataframe tbody tr th:only-of-type {\n",
              "        vertical-align: middle;\n",
              "    }\n",
              "\n",
              "    .dataframe tbody tr th {\n",
              "        vertical-align: top;\n",
              "    }\n",
              "\n",
              "    .dataframe thead th {\n",
              "        text-align: right;\n",
              "    }\n",
              "</style>\n",
              "<table border=\"1\" class=\"dataframe\">\n",
              "  <thead>\n",
              "    <tr style=\"text-align: right;\">\n",
              "      <th></th>\n",
              "      <th>review</th>\n",
              "      <th>sentiment</th>\n",
              "    </tr>\n",
              "  </thead>\n",
              "  <tbody>\n",
              "    <tr>\n",
              "      <th>0</th>\n",
              "      <td>One of the other reviewers has mentioned that ...</td>\n",
              "      <td>positive</td>\n",
              "    </tr>\n",
              "    <tr>\n",
              "      <th>1</th>\n",
              "      <td>A wonderful little production. &lt;br /&gt;&lt;br /&gt;The...</td>\n",
              "      <td>positive</td>\n",
              "    </tr>\n",
              "    <tr>\n",
              "      <th>2</th>\n",
              "      <td>I thought this was a wonderful way to spend ti...</td>\n",
              "      <td>positive</td>\n",
              "    </tr>\n",
              "    <tr>\n",
              "      <th>3</th>\n",
              "      <td>Basically there's a family where a little boy ...</td>\n",
              "      <td>negative</td>\n",
              "    </tr>\n",
              "    <tr>\n",
              "      <th>4</th>\n",
              "      <td>Petter Mattei's \"Love in the Time of Money\" is...</td>\n",
              "      <td>positive</td>\n",
              "    </tr>\n",
              "  </tbody>\n",
              "</table>\n",
              "</div>"
            ],
            "text/plain": [
              "                                              review sentiment\n",
              "0  One of the other reviewers has mentioned that ...  positive\n",
              "1  A wonderful little production. <br /><br />The...  positive\n",
              "2  I thought this was a wonderful way to spend ti...  positive\n",
              "3  Basically there's a family where a little boy ...  negative\n",
              "4  Petter Mattei's \"Love in the Time of Money\" is...  positive"
            ]
          },
          "metadata": {
            "tags": []
          },
          "execution_count": 4
        }
      ]
    },
    {
      "cell_type": "markdown",
      "metadata": {
        "id": "hT9I_AR4Xuy6"
      },
      "source": [
        "- Now let us convert the target to label encodings and split the data for training and validation."
      ]
    },
    {
      "cell_type": "code",
      "metadata": {
        "colab": {
          "base_uri": "https://localhost:8080/"
        },
        "id": "WEiafIHwXXNW",
        "outputId": "619aa613-85f7-4fb4-eae3-ec2d53277130"
      },
      "source": [
        "imdb_data['sentiment'].unique()"
      ],
      "execution_count": 5,
      "outputs": [
        {
          "output_type": "execute_result",
          "data": {
            "text/plain": [
              "array(['positive', 'negative'], dtype=object)"
            ]
          },
          "metadata": {
            "tags": []
          },
          "execution_count": 5
        }
      ]
    },
    {
      "cell_type": "code",
      "metadata": {
        "id": "SyUslbV2XXAY"
      },
      "source": [
        "imdb_data['sentiment']=imdb_data['sentiment'].map({'positive':1,'negative':0})"
      ],
      "execution_count": 6,
      "outputs": []
    },
    {
      "cell_type": "code",
      "metadata": {
        "colab": {
          "base_uri": "https://localhost:8080/"
        },
        "id": "hItwVjlYX6Md",
        "outputId": "a967826c-cc48-4434-8450-f97833e5bccf"
      },
      "source": [
        "# Unique values in target after the Label Mapping\n",
        "imdb_data['sentiment'].unique()"
      ],
      "execution_count": 7,
      "outputs": [
        {
          "output_type": "execute_result",
          "data": {
            "text/plain": [
              "array([1, 0])"
            ]
          },
          "metadata": {
            "tags": []
          },
          "execution_count": 7
        }
      ]
    },
    {
      "cell_type": "code",
      "metadata": {
        "colab": {
          "base_uri": "https://localhost:8080/",
          "height": 349
        },
        "id": "2HnczT1z1aLu",
        "outputId": "b26efc23-b048-403a-ccdc-b8344d6de667"
      },
      "source": [
        "sns.countplot(imdb_data['sentiment'])"
      ],
      "execution_count": 61,
      "outputs": [
        {
          "output_type": "stream",
          "text": [
            "/usr/local/lib/python3.7/dist-packages/seaborn/_decorators.py:43: FutureWarning: Pass the following variable as a keyword arg: x. From version 0.12, the only valid positional argument will be `data`, and passing other arguments without an explicit keyword will result in an error or misinterpretation.\n",
            "  FutureWarning\n"
          ],
          "name": "stderr"
        },
        {
          "output_type": "execute_result",
          "data": {
            "text/plain": [
              "<matplotlib.axes._subplots.AxesSubplot at 0x7f8643aa4150>"
            ]
          },
          "metadata": {
            "tags": []
          },
          "execution_count": 61
        },
        {
          "output_type": "display_data",
          "data": {
            "image/png": "[encoded data removed]",
            "text/plain": [
              "<Figure size 432x288 with 1 Axes>"
            ]
          },
          "metadata": {
            "tags": [],
            "needs_background": "light"
          }
        }
      ]
    },
    {
      "cell_type": "code",
      "metadata": {
        "id": "R2FnxJCNX6P4"
      },
      "source": [
        "train_data, valid_data = train_test_split(imdb_data, test_size = 0.3)"
      ],
      "execution_count": 8,
      "outputs": []
    },
    {
      "cell_type": "code",
      "metadata": {
        "colab": {
          "base_uri": "https://localhost:8080/"
        },
        "id": "O1OWWmouX6Sj",
        "outputId": "2bfa8cd8-007e-4a81-d966-d028b469efe9"
      },
      "source": [
        "print(f'Shape of the Training data is :{train_data.shape}')\n",
        "print(f'Shape of the Validation data is :{valid_data.shape}')"
      ],
      "execution_count": 9,
      "outputs": [
        {
          "output_type": "stream",
          "text": [
            "Shape of the Training data is :(35000, 2)\n",
            "Shape of the Validation data is :(15000, 2)\n"
          ],
          "name": "stdout"
        }
      ]
    },
    {
      "cell_type": "markdown",
      "metadata": {
        "id": "S2V1OkO2Szal"
      },
      "source": [
        "- Now let us define some fileds where preprocessing of the text happens.\n",
        "- **data.Field**:torchtext.data.Field is a base datatype of PyTorch Text that helps with text preprocessing: tokenization, lowercasting, padding, umericalizaion and Building vocabulary.\n",
        " - **tokenize**: specifies the way of tokenizing the sentence i.e. converting sentence to words.\n",
        " - **batch_first**: The first dimension of input and output is always batch size\n",
        "- **data.LabelField**: LabelField object is a special case of Field object which is used only for the classification tasks. Its only use is to set the unk_token and sequential to None by default."
      ]
    },
    {
      "cell_type": "code",
      "metadata": {
        "id": "Jtkm39L2TNjO"
      },
      "source": [
        "text_field = data.Field(tokenize='spacy',include_lengths=True, unk_token='<unk>')\n",
        "\n",
        "label_field = data.LabelField(dtype = torch.float)\n",
        "# or use : LABEL = data.Field(sequential=False, use_vocab=False)"
      ],
      "execution_count": 10,
      "outputs": []
    },
    {
      "cell_type": "markdown",
      "metadata": {
        "id": "Si6uMeIp8TAS"
      },
      "source": [
        "- Next we create a **DataFrameDataset** class which will allow us to load the data and the target-labels as a **DataSet** using a DataFrame as a source of data. We will create a vocabulary using the training dataset and then pass the training and validation datasets to the iterator later."
      ]
    },
    {
      "cell_type": "code",
      "metadata": {
        "id": "OpnU_rzoY1M5"
      },
      "source": [
        "# source : https://gist.github.com/lextoumbourou/8f90313cbc3598ffbabeeaa1741a11c8\n",
        "# to use DataFrame as a Data source\n",
        "class DataFrameDataset(data.Dataset):\n",
        "\n",
        "    def __init__(self, df, fields, is_test=False, **kwargs):\n",
        "        examples = []\n",
        "        for i, row in df.iterrows():\n",
        "            label = row.sentiment if not is_test else None\n",
        "            text = row.review\n",
        "            examples.append(data.Example.fromlist([text, label], fields))\n",
        "\n",
        "        super().__init__(examples, fields, **kwargs)\n",
        "\n",
        "    @staticmethod\n",
        "    def sort_key(ex):\n",
        "        return len(ex.review)\n",
        "\n",
        "    @classmethod\n",
        "    def splits(cls, fields, train_df, val_df=None, test_df=None, **kwargs):\n",
        "        train_data, val_data, test_data = (None, None, None)\n",
        "        data_field = fields\n",
        "\n",
        "        if train_df is not None:\n",
        "            train_data = cls(train_df.copy(), data_field, **kwargs)\n",
        "        if val_df is not None:\n",
        "            val_data = cls(val_df.copy(), data_field, **kwargs)\n",
        "        if test_df is not None:\n",
        "            test_data = cls(test_df.copy(), data_field, True, **kwargs)\n",
        "\n",
        "        return tuple(d for d in (train_data, val_data, test_data) if d is not None)"
      ],
      "execution_count": 26,
      "outputs": []
    },
    {
      "cell_type": "markdown",
      "metadata": {
        "id": "tDIsfn4jBOke"
      },
      "source": [
        "- Now we have to make a list of tuples in which the first element would indicate the name of the column and then the next element would be a function instance of Field or LabelField.\n",
        "- Let us firstly make it and see how it looks like..."
      ]
    },
    {
      "cell_type": "code",
      "metadata": {
        "id": "2E7oclugBKie"
      },
      "source": [
        "# For text we have text_field object that we declared previously and same goes for the target field.\n",
        "column_fields = [('review',text_field),('sentiment', label_field)]"
      ],
      "execution_count": 27,
      "outputs": []
    },
    {
      "cell_type": "markdown",
      "metadata": {
        "id": "L3wQekoOgmW0"
      },
      "source": [
        "- **NOTE:** The serial of the fields in above column field should be the same as it is in the dataset or else you may find some error."
      ]
    },
    {
      "cell_type": "markdown",
      "metadata": {
        "id": "7H0CDeNISZgK"
      },
      "source": [
        "- Let us split the data into Training and Test splits using the Dataset Class that we have written in the above cell. Let us try to unpack them and divide the dataset into Training and test Splits."
      ]
    },
    {
      "cell_type": "code",
      "metadata": {
        "id": "x9niSG9_B-0B"
      },
      "source": [
        "train_ds, val_ds = DataFrameDataset.splits(column_fields, train_df=train_data, val_df=valid_data)"
      ],
      "execution_count": 28,
      "outputs": []
    },
    {
      "cell_type": "markdown",
      "metadata": {
        "id": "_ezSFVbqpLp9"
      },
      "source": [
        "- Let us have a look at how our preprocessing is being done."
      ]
    },
    {
      "cell_type": "code",
      "metadata": {
        "colab": {
          "base_uri": "https://localhost:8080/"
        },
        "id": "qkeM1kM-pLE3",
        "outputId": "3c673b14-27d7-453e-f038-ddf7cd50ff1d"
      },
      "source": [
        "# Printing our processed text\n",
        "print(vars(train_ds[15]))\n",
        "\n",
        "# Checking the type of our text\n",
        "print(type(train_ds[15]))"
      ],
      "execution_count": 30,
      "outputs": [
        {
          "output_type": "stream",
          "text": [
            "{'review': ['This', 'belongs', 'in', 'their', 'top', 'tier', ',', 'although', 'there', 'were', 'others', ',', 'such', 'as', 'Micro', '-', 'Phonies', 'and', 'Punch', 'Drunks', ',', 'that', 'were', 'more', 'deserving', 'of', 'Oscar', 'nominations', 'than', 'this', 'one', '.', 'But', 'if', 'nothing', 'else', ',', 'the', 'recurring', 'loudspeaker', 'announcement', ',', '\"', 'Dr.', 'Howard', ',', 'Dr.', 'Fine', ',', 'Dr.', 'Howard', ',', '\"', 'followed', 'by', 'Curly', \"'s\", '\"', 'Woo', 'woo', 'woo', 'woo', ',', '\"', 'makes', 'this', 'a', 'classic', 'on', 'two', 'levels', '.', 'First', ',', 'it', 'symbolizes', 'all', 'that', 'the', 'Stooges', 'represent', ';', 'my', 'daughter', 'loves', 'to', 'repeat', 'the', 'announcement', 'when', 'she', 'is', 'in', 'the', 'middle', 'of', 'doing', 'something', 'silly', '.', 'Second', ',', 'the', 'absurdity', 'of', 'these', 'three', 'as', 'physicians', 'in', 'a', 'hospital', ';', 'I', 'imagine', 'the', 'terror', 'I', 'would', 'feel', 'if', 'I', 'were', 'a', 'real', 'patient', 'in', 'a', 'real', 'hospital', 'and', 'heard', 'this', 'announcement', 'over', 'the', 'loudspeaker', '.', 'Throughout', 'this', 'short', ',', 'you', 'hear', 'that', 'announcement', 'and', 'you', 'know', 'that', 'something', 'horrible', 'is', 'about', 'to', 'happen', ',', 'and', 'the', 'loudspeaker', 'voice', 'stays', 'with', 'you', 'for', 'months', 'afterward', '.'], 'sentiment': 1}\n",
            "<class 'torchtext.legacy.data.example.Example'>\n"
          ],
          "name": "stdout"
        }
      ]
    },
    {
      "cell_type": "markdown",
      "metadata": {
        "id": "Z9dwVmxSUKy4"
      },
      "source": [
        "- As we are done with all the Dataloading tasks now let us set parameters for setting a sentence length and frequency of the words we have in our dataset.\n",
        "## Sentence padding and setting seqeunces.\n"
      ]
    },
    {
      "cell_type": "code",
      "metadata": {
        "id": "Kk0XansDB-4C",
        "colab": {
          "base_uri": "https://localhost:8080/"
        },
        "outputId": "833ddebe-1dab-4a94-a588-d49e6d78363f"
      },
      "source": [
        "#initialize glove embeddings\n",
        "text_field.build_vocab(train_ds,min_freq=5)# use vectors as a parameter to consider pretrained embeddings(vectors = \"glove.6B.100d\")  \n",
        "label_field.build_vocab(train_ds)\n",
        "\n",
        "#No. of unique words in our text corpus\n",
        "print(\"Size of TEXT Corpus:\",len(text_field.vocab))\n",
        "\n",
        "#No. of unique tokens in label\n",
        "print('\\n')\n",
        "print(\"Size of LABEL vocabulary:\",len(label_field.vocab))\n",
        " "
      ],
      "execution_count": 33,
      "outputs": [
        {
          "output_type": "stream",
          "text": [
            "Size of TEXT Corpus: 42569\n",
            "\n",
            "\n",
            "Size of LABEL vocabulary: 2\n"
          ],
          "name": "stdout"
        }
      ]
    },
    {
      "cell_type": "markdown",
      "metadata": {
        "id": "gOxMjr9jhAXz"
      },
      "source": [
        "- We have succesfully made our vocabulary for our train data.\n",
        "- We have around 58K unique words in our vocabulary.\n",
        "- Let us have a look at the top 10 most occuring words in our corpus."
      ]
    },
    {
      "cell_type": "code",
      "metadata": {
        "id": "q1VY1NRiB-8Y",
        "colab": {
          "base_uri": "https://localhost:8080/"
        },
        "outputId": "ea453f31-0331-4cfb-c1aa-39b500b71af9"
      },
      "source": [
        "#Commonly used words\n",
        "top_ten_words = text_field.vocab.freqs.most_common(10) # Fetches out the top 1o words using .most_common() method\n",
        "for top_words in top_ten_words:# Looping through words\n",
        "    print(f'Word \"{top_words[0]}\" repeated {top_words[1]} times in the whole corpus')"
      ],
      "execution_count": 34,
      "outputs": [
        {
          "output_type": "stream",
          "text": [
            "Word \"the\" repeated 402432 times in the whole corpus\n",
            "Word \",\" repeated 380305 times in the whole corpus\n",
            "Word \".\" repeated 328228 times in the whole corpus\n",
            "Word \"a\" repeated 216831 times in the whole corpus\n",
            "Word \"and\" repeated 216724 times in the whole corpus\n",
            "Word \"of\" repeated 200464 times in the whole corpus\n",
            "Word \"to\" repeated 185492 times in the whole corpus\n",
            "Word \"is\" repeated 150515 times in the whole corpus\n",
            "Word \"in\" repeated 122108 times in the whole corpus\n",
            "Word \"I\" repeated 108986 times in the whole corpus\n"
          ],
          "name": "stdout"
        }
      ]
    },
    {
      "cell_type": "markdown",
      "metadata": {
        "id": "c0nwXAJPrHv4"
      },
      "source": [
        "- We can see the top 10 words of our corpus.\n",
        "- Now let us look at Dictionary of the word corpus that we just made right now."
      ]
    },
    {
      "cell_type": "code",
      "metadata": {
        "id": "C27m4W68YyOO",
        "colab": {
          "base_uri": "https://localhost:8080/"
        },
        "outputId": "a2762d5e-e583-4656-ae06-d876199ae4c0"
      },
      "source": [
        "#Word dictionary\n",
        "text_field.vocab.stoi # \"stoi\" stands for string to Index."
      ],
      "execution_count": 35,
      "outputs": [
        {
          "output_type": "execute_result",
          "data": {
            "text/plain": [
              "defaultdict(<bound method Vocab._default_unk_index of <torchtext.legacy.vocab.Vocab object at 0x7f8640c07e90>>,\n",
              "            {'<unk>': 0,\n",
              "             '<pad>': 1,\n",
              "             'the': 2,\n",
              "             ',': 3,\n",
              "             '.': 4,\n",
              "             'a': 5,\n",
              "             'and': 6,\n",
              "             'of': 7,\n",
              "             'to': 8,\n",
              "             'is': 9,\n",
              "             'in': 10,\n",
              "             'I': 11,\n",
              "             'it': 12,\n",
              "             'that': 13,\n",
              "             '\"': 14,\n",
              "             \"'s\": 15,\n",
              "             'this': 16,\n",
              "             '-': 17,\n",
              "             '/><br': 18,\n",
              "             'was': 19,\n",
              "             'as': 20,\n",
              "             'with': 21,\n",
              "             'movie': 22,\n",
              "             'for': 23,\n",
              "             'film': 24,\n",
              "             'The': 25,\n",
              "             'but': 26,\n",
              "             'on': 27,\n",
              "             \"n't\": 28,\n",
              "             '(': 29,\n",
              "             ')': 30,\n",
              "             'you': 31,\n",
              "             'are': 32,\n",
              "             'not': 33,\n",
              "             'have': 34,\n",
              "             'his': 35,\n",
              "             'be': 36,\n",
              "             'he': 37,\n",
              "             'one': 38,\n",
              "             '!': 39,\n",
              "             'at': 40,\n",
              "             'by': 41,\n",
              "             'all': 42,\n",
              "             'an': 43,\n",
              "             'who': 44,\n",
              "             'from': 45,\n",
              "             'like': 46,\n",
              "             'they': 47,\n",
              "             'so': 48,\n",
              "             'or': 49,\n",
              "             \"'\": 50,\n",
              "             'has': 51,\n",
              "             'about': 52,\n",
              "             'out': 53,\n",
              "             'her': 54,\n",
              "             'It': 55,\n",
              "             'just': 56,\n",
              "             'do': 57,\n",
              "             '?': 58,\n",
              "             'some': 59,\n",
              "             'good': 60,\n",
              "             'more': 61,\n",
              "             'would': 62,\n",
              "             'very': 63,\n",
              "             'up': 64,\n",
              "             'what': 65,\n",
              "             'This': 66,\n",
              "             'there': 67,\n",
              "             'time': 68,\n",
              "             'can': 69,\n",
              "             'when': 70,\n",
              "             'if': 71,\n",
              "             'which': 72,\n",
              "             'really': 73,\n",
              "             'had': 74,\n",
              "             'only': 75,\n",
              "             'see': 76,\n",
              "             'their': 77,\n",
              "             'she': 78,\n",
              "             'story': 79,\n",
              "             'were': 80,\n",
              "             'even': 81,\n",
              "             'no': 82,\n",
              "             'me': 83,\n",
              "             'my': 84,\n",
              "             'did': 85,\n",
              "             '...': 86,\n",
              "             'does': 87,\n",
              "             'than': 88,\n",
              "             'much': 89,\n",
              "             'been': 90,\n",
              "             ':': 91,\n",
              "             'could': 92,\n",
              "             'get': 93,\n",
              "             'into': 94,\n",
              "             'well': 95,\n",
              "             'will': 96,\n",
              "             'other': 97,\n",
              "             'bad': 98,\n",
              "             'we': 99,\n",
              "             'people': 100,\n",
              "             'him': 101,\n",
              "             'great': 102,\n",
              "             'because': 103,\n",
              "             'most': 104,\n",
              "             '<': 105,\n",
              "             'made': 106,\n",
              "             'br': 107,\n",
              "             'first': 108,\n",
              "             'make': 109,\n",
              "             'them': 110,\n",
              "             'also': 111,\n",
              "             'how': 112,\n",
              "             'way': 113,\n",
              "             'its': 114,\n",
              "             'too': 115,\n",
              "             'any': 116,\n",
              "             'movies': 117,\n",
              "             '/>The': 118,\n",
              "             'characters': 119,\n",
              "             'think': 120,\n",
              "             'character': 121,\n",
              "             'then': 122,\n",
              "             'films': 123,\n",
              "             ';': 124,\n",
              "             'seen': 125,\n",
              "             'But': 126,\n",
              "             'watch': 127,\n",
              "             'being': 128,\n",
              "             'two': 129,\n",
              "             'many': 130,\n",
              "             'plot': 131,\n",
              "             'acting': 132,\n",
              "             'never': 133,\n",
              "             'know': 134,\n",
              "             'life': 135,\n",
              "             'And': 136,\n",
              "             'where': 137,\n",
              "             'over': 138,\n",
              "             'show': 139,\n",
              "             'off': 140,\n",
              "             'love': 141,\n",
              "             'after': 142,\n",
              "             'little': 143,\n",
              "             'ever': 144,\n",
              "             'best': 145,\n",
              "             'better': 146,\n",
              "             'your': 147,\n",
              "             'A': 148,\n",
              "             '*': 149,\n",
              "             'scene': 150,\n",
              "             'say': 151,\n",
              "             'He': 152,\n",
              "             'end': 153,\n",
              "             'i': 154,\n",
              "             'scenes': 155,\n",
              "             'should': 156,\n",
              "             'There': 157,\n",
              "             'In': 158,\n",
              "             'man': 159,\n",
              "             \"'ve\": 160,\n",
              "             'still': 161,\n",
              "             'something': 162,\n",
              "             'such': 163,\n",
              "             '/': 164,\n",
              "             'here': 165,\n",
              "             'through': 166,\n",
              "             'back': 167,\n",
              "             'these': 168,\n",
              "             'If': 169,\n",
              "             'go': 170,\n",
              "             'real': 171,\n",
              "             \"'m\": 172,\n",
              "             'watching': 173,\n",
              "             'thing': 174,\n",
              "             'those': 175,\n",
              "             'actors': 176,\n",
              "             'years': 177,\n",
              "             'makes': 178,\n",
              "             'funny': 179,\n",
              "             'find': 180,\n",
              "             'work': 181,\n",
              "             'old': 182,\n",
              "             'going': 183,\n",
              "             'actually': 184,\n",
              "             'same': 185,\n",
              "             '--': 186,\n",
              "             'before': 187,\n",
              "             'few': 188,\n",
              "             'lot': 189,\n",
              "             'though': 190,\n",
              "             'look': 191,\n",
              "             'why': 192,\n",
              "             'while': 193,\n",
              "             'director': 194,\n",
              "             'part': 195,\n",
              "             \"'re\": 196,\n",
              "             'another': 197,\n",
              "             '&': 198,\n",
              "             'nothing': 199,\n",
              "             '/>I': 200,\n",
              "             'cast': 201,\n",
              "             'ca': 202,\n",
              "             'want': 203,\n",
              "             'seems': 204,\n",
              "             'down': 205,\n",
              "             'every': 206,\n",
              "             'again': 207,\n",
              "             'around': 208,\n",
              "             'quite': 209,\n",
              "             'got': 210,\n",
              "             'pretty': 211,\n",
              "             'thought': 212,\n",
              "             'things': 213,\n",
              "             'fact': 214,\n",
              "             'enough': 215,\n",
              "             'horror': 216,\n",
              "             'take': 217,\n",
              "             'between': 218,\n",
              "             'own': 219,\n",
              "             'long': 220,\n",
              "             'now': 221,\n",
              "             'give': 222,\n",
              "             'They': 223,\n",
              "             'us': 224,\n",
              "             'young': 225,\n",
              "             'must': 226,\n",
              "             'gets': 227,\n",
              "             'may': 228,\n",
              "             'role': 229,\n",
              "             'world': 230,\n",
              "             'always': 231,\n",
              "             'action': 232,\n",
              "             'saw': 233,\n",
              "             'series': 234,\n",
              "             'least': 235,\n",
              "             'comedy': 236,\n",
              "             'original': 237,\n",
              "             'You': 238,\n",
              "             'whole': 239,\n",
              "             'interesting': 240,\n",
              "             'right': 241,\n",
              "             'almost': 242,\n",
              "             'times': 243,\n",
              "             'music': 244,\n",
              "             'without': 245,\n",
              "             'done': 246,\n",
              "             'point': 247,\n",
              "             'both': 248,\n",
              "             'guy': 249,\n",
              "             'big': 250,\n",
              "             'come': 251,\n",
              "             'bit': 252,\n",
              "             'new': 253,\n",
              "             'feel': 254,\n",
              "             'far': 255,\n",
              "             'script': 256,\n",
              "             'making': 257,\n",
              "             'minutes': 258,\n",
              "             'might': 259,\n",
              "             'anything': 260,\n",
              "             'What': 261,\n",
              "             \"'ll\": 262,\n",
              "             'TV': 263,\n",
              "             'family': 264,\n",
              "             'am': 265,\n",
              "             'performance': 266,\n",
              "             'probably': 267,\n",
              "             'kind': 268,\n",
              "             'last': 269,\n",
              "             'away': 270,\n",
              "             'She': 271,\n",
              "             'found': 272,\n",
              "             'As': 273,\n",
              "             'fun': 274,\n",
              "             'rather': 275,\n",
              "             'played': 276,\n",
              "             'woman': 277,\n",
              "             'since': 278,\n",
              "             'worst': 279,\n",
              "             'girl': 280,\n",
              "             'looking': 281,\n",
              "             'course': 282,\n",
              "             'That': 283,\n",
              "             'hard': 284,\n",
              "             'trying': 285,\n",
              "             'believe': 286,\n",
              "             'each': 287,\n",
              "             'comes': 288,\n",
              "             'anyone': 289,\n",
              "             'screen': 290,\n",
              "             'DVD': 291,\n",
              "             'put': 292,\n",
              "             'goes': 293,\n",
              "             'our': 294,\n",
              "             'worth': 295,\n",
              "             'yet': 296,\n",
              "             'ending': 297,\n",
              "             'especially': 298,\n",
              "             'different': 299,\n",
              "             'book': 300,\n",
              "             'shows': 301,\n",
              "             'American': 302,\n",
              "             'main': 303,\n",
              "             'sure': 304,\n",
              "             'effects': 305,\n",
              "             'place': 306,\n",
              "             'looks': 307,\n",
              "             'set': 308,\n",
              "             'reason': 309,\n",
              "             '/>This': 310,\n",
              "             'sense': 311,\n",
              "             'watched': 312,\n",
              "             'actor': 313,\n",
              "             'money': 314,\n",
              "             'day': 315,\n",
              "             'having': 316,\n",
              "             'When': 317,\n",
              "             'job': 318,\n",
              "             'takes': 319,\n",
              "             'said': 320,\n",
              "             'someone': 321,\n",
              "             \"'d\": 322,\n",
              "             'play': 323,\n",
              "             'plays': 324,\n",
              "             'seem': 325,\n",
              "             'So': 326,\n",
              "             '10': 327,\n",
              "             'audience': 328,\n",
              "             '2': 329,\n",
              "             'together': 330,\n",
              "             'left': 331,\n",
              "             'half': 332,\n",
              "             'true': 333,\n",
              "             'three': 334,\n",
              "             'idea': 335,\n",
              "             'himself': 336,\n",
              "             'special': 337,\n",
              "             'everything': 338,\n",
              "             'John': 339,\n",
              "             'wife': 340,\n",
              "             'beautiful': 341,\n",
              "             'version': 342,\n",
              "             'shot': 343,\n",
              "             'seeing': 344,\n",
              "             'during': 345,\n",
              "             'used': 346,\n",
              "             'else': 347,\n",
              "             'everyone': 348,\n",
              "             'fan': 349,\n",
              "             'One': 350,\n",
              "             'high': 351,\n",
              "             'excellent': 352,\n",
              "             'later': 353,\n",
              "             'completely': 354,\n",
              "             'year': 355,\n",
              "             'once': 356,\n",
              "             'budget': 357,\n",
              "             'mind': 358,\n",
              "             'short': 359,\n",
              "             'We': 360,\n",
              "             'less': 361,\n",
              "             'simply': 362,\n",
              "             'poor': 363,\n",
              "             'For': 364,\n",
              "             'help': 365,\n",
              "             'let': 366,\n",
              "             'camera': 367,\n",
              "             'nice': 368,\n",
              "             'Not': 369,\n",
              "             'read': 370,\n",
              "             'father': 371,\n",
              "             'Hollywood': 372,\n",
              "             'need': 373,\n",
              "             'use': 374,\n",
              "             'low': 375,\n",
              "             'performances': 376,\n",
              "             '..': 377,\n",
              "             'top': 378,\n",
              "             'couple': 379,\n",
              "             'home': 380,\n",
              "             'either': 381,\n",
              "             'production': 382,\n",
              "             'given': 383,\n",
              "             'start': 384,\n",
              "             'friends': 385,\n",
              "             'along': 386,\n",
              "             'kids': 387,\n",
              "             'men': 388,\n",
              "             'However': 389,\n",
              "             'try': 390,\n",
              "             'until': 391,\n",
              "             'rest': 392,\n",
              "             'recommend': 393,\n",
              "             'enjoy': 394,\n",
              "             'boring': 395,\n",
              "             'line': 396,\n",
              "             'wrong': 397,\n",
              "             'getting': 398,\n",
              "             'stupid': 399,\n",
              "             'All': 400,\n",
              "             'women': 401,\n",
              "             'My': 402,\n",
              "             'came': 403,\n",
              "             'classic': 404,\n",
              "             'truly': 405,\n",
              "             'second': 406,\n",
              "             'tell': 407,\n",
              "             'understand': 408,\n",
              "             'mean': 409,\n",
              "             'death': 410,\n",
              "             'school': 411,\n",
              "             'full': 412,\n",
              "             'video': 413,\n",
              "             'moments': 414,\n",
              "             'sex': 415,\n",
              "             'instead': 416,\n",
              "             'playing': 417,\n",
              "             'doing': 418,\n",
              "             'night': 419,\n",
              "             'awful': 420,\n",
              "             'keep': 421,\n",
              "             'person': 422,\n",
              "             'itself': 423,\n",
              "             'remember': 424,\n",
              "             'although': 425,\n",
              "             '/>It': 426,\n",
              "             'next': 427,\n",
              "             'name': 428,\n",
              "             'style': 429,\n",
              "             'maybe': 430,\n",
              "             'face': 431,\n",
              "             'however': 432,\n",
              "             'black': 433,\n",
              "             'small': 434,\n",
              "             'gives': 435,\n",
              "             'terrible': 436,\n",
              "             'written': 437,\n",
              "             'early': 438,\n",
              "             'war': 439,\n",
              "             'lines': 440,\n",
              "             'house': 441,\n",
              "             'human': 442,\n",
              "             'become': 443,\n",
              "             'went': 444,\n",
              "             'No': 445,\n",
              "             'dialogue': 446,\n",
              "             'often': 447,\n",
              "             'perfect': 448,\n",
              "             'wonderful': 449,\n",
              "             'THE': 450,\n",
              "             'episode': 451,\n",
              "             'piece': 452,\n",
              "             'liked': 453,\n",
              "             'friend': 454,\n",
              "             'sort': 455,\n",
              "             'others': 456,\n",
              "             'stars': 457,\n",
              "             'star': 458,\n",
              "             'case': 459,\n",
              "             'called': 460,\n",
              "             'supposed': 461,\n",
              "             'head': 462,\n",
              "             'felt': 463,\n",
              "             'At': 464,\n",
              "             'laugh': 465,\n",
              "             'mother': 466,\n",
              "             'entire': 467,\n",
              "             'entertaining': 468,\n",
              "             'absolutely': 469,\n",
              "             'After': 470,\n",
              "             'Well': 471,\n",
              "             'becomes': 472,\n",
              "             'loved': 473,\n",
              "             'children': 474,\n",
              "             'Do': 475,\n",
              "             'Even': 476,\n",
              "             'worse': 477,\n",
              "             'guys': 478,\n",
              "             'problem': 479,\n",
              "             'certainly': 480,\n",
              "             'live': 481,\n",
              "             'title': 482,\n",
              "             'against': 483,\n",
              "             'already': 484,\n",
              "             'seemed': 485,\n",
              "             'several': 486,\n",
              "             'waste': 487,\n",
              "             '3': 488,\n",
              "             'picture': 489,\n",
              "             'able': 490,\n",
              "             'His': 491,\n",
              "             'totally': 492,\n",
              "             'wanted': 493,\n",
              "             'humor': 494,\n",
              "             'care': 495,\n",
              "             'beginning': 496,\n",
              "             'boy': 497,\n",
              "             'definitely': 498,\n",
              "             'based': 499,\n",
              "             'dead': 500,\n",
              "             'drama': 501,\n",
              "             'cinema': 502,\n",
              "             'example': 503,\n",
              "             'hope': 504,\n",
              "             'wo': 505,\n",
              "             'direction': 506,\n",
              "             'lead': 507,\n",
              "             'lives': 508,\n",
              "             'To': 509,\n",
              "             'fans': 510,\n",
              "             'sound': 511,\n",
              "             'turn': 512,\n",
              "             'guess': 513,\n",
              "             'under': 514,\n",
              "             'game': 515,\n",
              "             'wants': 516,\n",
              "             '....': 517,\n",
              "             'Michael': 518,\n",
              "             'lost': 519,\n",
              "             'writing': 520,\n",
              "             '\\x96': 521,\n",
              "             'quality': 522,\n",
              "             'fine': 523,\n",
              "             'gave': 524,\n",
              "             'tries': 525,\n",
              "             'works': 526,\n",
              "             '<br': 527,\n",
              "             'side': 528,\n",
              "             'final': 529,\n",
              "             'flick': 530,\n",
              "             'turns': 531,\n",
              "             'son': 532,\n",
              "             'viewer': 533,\n",
              "             'throughout': 534,\n",
              "             'matter': 535,\n",
              "             'behind': 536,\n",
              "             'self': 537,\n",
              "             'Why': 538,\n",
              "             'enjoyed': 539,\n",
              "             'finally': 540,\n",
              "             'Then': 541,\n",
              "             'past': 542,\n",
              "             'town': 543,\n",
              "             '>': 544,\n",
              "             'stuff': 545,\n",
              "             'myself': 546,\n",
              "             'act': 547,\n",
              "             'close': 548,\n",
              "             'expect': 549,\n",
              "             'run': 550,\n",
              "             'Also': 551,\n",
              "             'starts': 552,\n",
              "             'amazing': 553,\n",
              "             'themselves': 554,\n",
              "             'genre': 555,\n",
              "             'parts': 556,\n",
              "             'heart': 557,\n",
              "             'New': 558,\n",
              "             'Of': 559,\n",
              "             'history': 560,\n",
              "             'horrible': 561,\n",
              "             'hand': 562,\n",
              "             'favorite': 563,\n",
              "             'took': 564,\n",
              "             'days': 565,\n",
              "             '1': 566,\n",
              "             'hour': 567,\n",
              "             'decent': 568,\n",
              "             'etc': 569,\n",
              "             'While': 570,\n",
              "             'heard': 571,\n",
              "             'late': 572,\n",
              "             'group': 573,\n",
              "             'perhaps': 574,\n",
              "             'happens': 575,\n",
              "             'feeling': 576,\n",
              "             'car': 577,\n",
              "             'says': 578,\n",
              "             'daughter': 579,\n",
              "             'kill': 580,\n",
              "             'today': 581,\n",
              "             'directed': 582,\n",
              "             'type': 583,\n",
              "             'actress': 584,\n",
              "             'killer': 585,\n",
              "             'How': 586,\n",
              "             'child': 587,\n",
              "             'evil': 588,\n",
              "             'voice': 589,\n",
              "             'thinking': 590,\n",
              "             'killed': 591,\n",
              "             'white': 592,\n",
              "             'brilliant': 593,\n",
              "             'known': 594,\n",
              "             'dark': 595,\n",
              "             'experience': 596,\n",
              "             'Some': 597,\n",
              "             'moment': 598,\n",
              "             'kid': 599,\n",
              "             'slow': 600,\n",
              "             'art': 601,\n",
              "             'stop': 602,\n",
              "             'looked': 603,\n",
              "             'stories': 604,\n",
              "             'eyes': 605,\n",
              "             'told': 606,\n",
              "             'extremely': 607,\n",
              "             'girls': 608,\n",
              "             'lack': 609,\n",
              "             'involved': 610,\n",
              "             'leave': 611,\n",
              "             'chance': 612,\n",
              "             'taken': 613,\n",
              "             'fight': 614,\n",
              "             'soon': 615,\n",
              "             'Just': 616,\n",
              "             'score': 617,\n",
              "             'Now': 618,\n",
              "             'attempt': 619,\n",
              "             'coming': 620,\n",
              "             'violence': 621,\n",
              "             '/>In': 622,\n",
              "             'roles': 623,\n",
              "             'including': 624,\n",
              "             'shown': 625,\n",
              "             'With': 626,\n",
              "             'hit': 627,\n",
              "             'Mr.': 628,\n",
              "             'particularly': 629,\n",
              "             'husband': 630,\n",
              "             'obvious': 631,\n",
              "             'wonder': 632,\n",
              "             'complete': 633,\n",
              "             'happen': 634,\n",
              "             'serious': 635,\n",
              "             'ago': 636,\n",
              "             'except': 637,\n",
              "             'David': 638,\n",
              "             'James': 639,\n",
              "             'strong': 640,\n",
              "             'writer': 641,\n",
              "             'Robert': 642,\n",
              "             'happened': 643,\n",
              "             'obviously': 644,\n",
              "             'highly': 645,\n",
              "             'sometimes': 646,\n",
              "             'jokes': 647,\n",
              "             'interest': 648,\n",
              "             'crap': 649,\n",
              "             'opening': 650,\n",
              "             'across': 651,\n",
              "             'reality': 652,\n",
              "             'relationship': 653,\n",
              "             'released': 654,\n",
              "             '/>There': 655,\n",
              "             'brother': 656,\n",
              "             'documentary': 657,\n",
              "             'cut': 658,\n",
              "             'English': 659,\n",
              "             'talent': 660,\n",
              "             'hero': 661,\n",
              "             'hilarious': 662,\n",
              "             '/>If': 663,\n",
              "             'gore': 664,\n",
              "             'running': 665,\n",
              "             'simple': 666,\n",
              "             'annoying': 667,\n",
              "             'exactly': 668,\n",
              "             'shots': 669,\n",
              "             'save': 670,\n",
              "             'whose': 671,\n",
              "             'possible': 672,\n",
              "             'finds': 673,\n",
              "             'saying': 674,\n",
              "             'opinion': 675,\n",
              "             'started': 676,\n",
              "             'hours': 677,\n",
              "             'song': 678,\n",
              "             'view': 679,\n",
              "             'career': 680,\n",
              "             'cool': 681,\n",
              "             'level': 682,\n",
              "             'ends': 683,\n",
              "             'light': 684,\n",
              "             'yourself': 685,\n",
              "             'important': 686,\n",
              "             'living': 687,\n",
              "             'taking': 688,\n",
              "             'police': 689,\n",
              "             'sad': 690,\n",
              "             'change': 691,\n",
              "             'novel': 692,\n",
              "             'female': 693,\n",
              "             'word': 694,\n",
              "             'turned': 695,\n",
              "             '5': 696,\n",
              "             'cinematography': 697,\n",
              "             'age': 698,\n",
              "             'talking': 699,\n",
              "             'despite': 700,\n",
              "             'ridiculous': 701,\n",
              "             'attention': 702,\n",
              "             'wish': 703,\n",
              "             'usually': 704,\n",
              "             'due': 705,\n",
              "             'murder': 706,\n",
              "             'number': 707,\n",
              "             'somewhat': 708,\n",
              "             'Oh': 709,\n",
              "             'blood': 710,\n",
              "             'silly': 711,\n",
              "             'call': 712,\n",
              "             'single': 713,\n",
              "             'ones': 714,\n",
              "             'order': 715,\n",
              "             'words': 716,\n",
              "             'knows': 717,\n",
              "             'alone': 718,\n",
              "             'body': 719,\n",
              "             'sequence': 720,\n",
              "             'knew': 721,\n",
              "             'huge': 722,\n",
              "             'middle': 723,\n",
              "             'mostly': 724,\n",
              "             'usual': 725,\n",
              "             'non': 726,\n",
              "             'tells': 727,\n",
              "             'Man': 728,\n",
              "             '4': 729,\n",
              "             'it.<br': 730,\n",
              "             'country': 731,\n",
              "             'modern': 732,\n",
              "             'musical': 733,\n",
              "             'episodes': 734,\n",
              "             'British': 735,\n",
              "             'Jack': 736,\n",
              "             'local': 737,\n",
              "             'disappointed': 738,\n",
              "             'On': 739,\n",
              "             'problems': 740,\n",
              "             'class': 741,\n",
              "             'comic': 742,\n",
              "             'room': 743,\n",
              "             'television': 744,\n",
              "             'cheap': 745,\n",
              "             'George': 746,\n",
              "             'OK': 747,\n",
              "             'events': 748,\n",
              "             'upon': 749,\n",
              "             'moving': 750,\n",
              "             'appears': 751,\n",
              "             'scary': 752,\n",
              "             'strange': 753,\n",
              "             'happy': 754,\n",
              "             'major': 755,\n",
              "             'power': 756,\n",
              "             'similar': 757,\n",
              "             'soundtrack': 758,\n",
              "             'Although': 759,\n",
              "             'beyond': 760,\n",
              "             'review': 761,\n",
              "             'needs': 762,\n",
              "             'clearly': 763,\n",
              "             'bring': 764,\n",
              "             'predictable': 765,\n",
              "             'thriller': 766,\n",
              "             'straight': 767,\n",
              "             '/>But': 768,\n",
              "             'easily': 769,\n",
              "             'seriously': 770,\n",
              "             'dialog': 771,\n",
              "             'surprised': 772,\n",
              "             'God': 773,\n",
              "             'romantic': 774,\n",
              "             'talk': 775,\n",
              "             'mention': 776,\n",
              "             'giving': 777,\n",
              "             'tried': 778,\n",
              "             'certain': 779,\n",
              "             'near': 780,\n",
              "             'none': 781,\n",
              "             'songs': 782,\n",
              "             'above': 783,\n",
              "             'sets': 784,\n",
              "             'effort': 785,\n",
              "             'hate': 786,\n",
              "             'enjoyable': 787,\n",
              "             'falls': 788,\n",
              "             'message': 789,\n",
              "             'release': 790,\n",
              "             'bunch': 791,\n",
              "             'sequel': 792,\n",
              "             'clear': 793,\n",
              "             'dull': 794,\n",
              "             'named': 795,\n",
              "             'fast': 796,\n",
              "             'four': 797,\n",
              "             'hell': 798,\n",
              "             'theme': 799,\n",
              "             'suspense': 800,\n",
              "             'feels': 801,\n",
              "             'showing': 802,\n",
              "             'team': 803,\n",
              "             'fall': 804,\n",
              "             'subject': 805,\n",
              "             'doubt': 806,\n",
              "             'working': 807,\n",
              "             'Maybe': 808,\n",
              "             'First': 809,\n",
              "             'filmed': 810,\n",
              "             'future': 811,\n",
              "             'kept': 812,\n",
              "             'ways': 813,\n",
              "             'within': 814,\n",
              "             'entertainment': 815,\n",
              "             'elements': 816,\n",
              "             'parents': 817,\n",
              "             'storyline': 818,\n",
              "             'stand': 819,\n",
              "             'comments': 820,\n",
              "             'supporting': 821,\n",
              "             'viewing': 822,\n",
              "             'easy': 823,\n",
              "             'ten': 824,\n",
              "             'whether': 825,\n",
              "             'realistic': 826,\n",
              "             'movie.<br': 827,\n",
              "             'nearly': 828,\n",
              "             'feature': 829,\n",
              "             'herself': 830,\n",
              "             'Oscar': 831,\n",
              "             'hear': 832,\n",
              "             'editing': 833,\n",
              "             'five': 834,\n",
              "             'actual': 835,\n",
              "             'means': 836,\n",
              "             'figure': 837,\n",
              "             'among': 838,\n",
              "             '/>A': 839,\n",
              "             'B': 840,\n",
              "             'From': 841,\n",
              "             'rating': 842,\n",
              "             '$': 843,\n",
              "             'buy': 844,\n",
              "             'form': 845,\n",
              "             'points': 846,\n",
              "             'material': 847,\n",
              "             'typical': 848,\n",
              "             'deal': 849,\n",
              "             'film.<br': 850,\n",
              "             'French': 851,\n",
              "             'brought': 852,\n",
              "             'sister': 853,\n",
              "             'famous': 854,\n",
              "             'Yes': 855,\n",
              "             'basically': 856,\n",
              "             'using': 857,\n",
              "             'begins': 858,\n",
              "             'greatest': 859,\n",
              "             'Is': 860,\n",
              "             'overall': 861,\n",
              "             'premise': 862,\n",
              "             'minute': 863,\n",
              "             'reviews': 864,\n",
              "             'sequences': 865,\n",
              "             'atmosphere': 866,\n",
              "             'leads': 867,\n",
              "             'viewers': 868,\n",
              "             'weak': 869,\n",
              "             'Richard': 870,\n",
              "             'Paul': 871,\n",
              "             'expected': 872,\n",
              "             'tale': 873,\n",
              "             'Unfortunately': 874,\n",
              "             'move': 875,\n",
              "             '20': 876,\n",
              "             'learn': 877,\n",
              "             'die': 878,\n",
              "             'situation': 879,\n",
              "             'crime': 880,\n",
              "             'decided': 881,\n",
              "             'add': 882,\n",
              "             'emotional': 883,\n",
              "             'America': 884,\n",
              "             'Who': 885,\n",
              "             'believable': 886,\n",
              "             'sit': 887,\n",
              "             'monster': 888,\n",
              "             'write': 889,\n",
              "             'York': 890,\n",
              "             'lots': 891,\n",
              "             'period': 892,\n",
              "             'acted': 893,\n",
              "             'apparently': 894,\n",
              "             'stay': 895,\n",
              "             'crew': 896,\n",
              "             'surprise': 897,\n",
              "             'killing': 898,\n",
              "             'leaves': 899,\n",
              "             'follow': 900,\n",
              "             'theater': 901,\n",
              "             'particular': 902,\n",
              "             'Peter': 903,\n",
              "             'eye': 904,\n",
              "             'fantastic': 905,\n",
              "             'open': 906,\n",
              "             'average': 907,\n",
              "             'An': 908,\n",
              "             'needed': 909,\n",
              "             'gone': 910,\n",
              "             'King': 911,\n",
              "             'Lee': 912,\n",
              "             'footage': 913,\n",
              "             'rent': 914,\n",
              "             'city': 915,\n",
              "             '/>And': 916,\n",
              "             'Its': 917,\n",
              "             'Tom': 918,\n",
              "             'difficult': 919,\n",
              "             'poorly': 920,\n",
              "             '/>As': 921,\n",
              "             'meets': 922,\n",
              "             'dog': 923,\n",
              "             'yes': 924,\n",
              "             'Her': 925,\n",
              "             're': 926,\n",
              "             'forced': 927,\n",
              "             'interested': 928,\n",
              "             'lame': 929,\n",
              "             'sexual': 930,\n",
              "             'Like': 931,\n",
              "             'NOT': 932,\n",
              "             'War': 933,\n",
              "             'free': 934,\n",
              "             'question': 935,\n",
              "             'became': 936,\n",
              "             'begin': 937,\n",
              "             'mystery': 938,\n",
              "             'perfectly': 939,\n",
              "             'Dr.': 940,\n",
              "             'features': 941,\n",
              "             'rate': 942,\n",
              "             'realize': 943,\n",
              "             'keeps': 944,\n",
              "             'animation': 945,\n",
              "             'credits': 946,\n",
              "             'possibly': 947,\n",
              "             'previous': 948,\n",
              "             'worked': 949,\n",
              "             'truth': 950,\n",
              "             'nature': 951,\n",
              "             'personal': 952,\n",
              "             'imagine': 953,\n",
              "             'quickly': 954,\n",
              "             'dramatic': 955,\n",
              "             'comment': 956,\n",
              "             'male': 957,\n",
              "             'memorable': 958,\n",
              "             'Japanese': 959,\n",
              "             'reading': 960,\n",
              "             'Joe': 961,\n",
              "             'These': 962,\n",
              "             'brings': 963,\n",
              "             'result': 964,\n",
              "             '`': 965,\n",
              "             'effect': 966,\n",
              "             'Most': 967,\n",
              "             'directing': 968,\n",
              "             'gay': 969,\n",
              "             'somehow': 970,\n",
              "             'third': 971,\n",
              "             'weird': 972,\n",
              "             'forward': 973,\n",
              "             'badly': 974,\n",
              "             'society': 975,\n",
              "             'appear': 976,\n",
              "             'box': 977,\n",
              "             'Disney': 978,\n",
              "             'background': 979,\n",
              "             'stage': 980,\n",
              "             'laughs': 981,\n",
              "             'space': 982,\n",
              "             'wait': 983,\n",
              "             'whom': 984,\n",
              "             'general': 985,\n",
              "             'earlier': 986,\n",
              "             'screenplay': 987,\n",
              "             'cheesy': 988,\n",
              "             'romance': 989,\n",
              "             'sorry': 990,\n",
              "             'portrayed': 991,\n",
              "             'superb': 992,\n",
              "             'towards': 993,\n",
              "             's': 994,\n",
              "             'hands': 995,\n",
              "             'older': 996,\n",
              "             'girlfriend': 997,\n",
              "             'masterpiece': 998,\n",
              "             'spent': 999,\n",
              "             ...})"
            ]
          },
          "metadata": {
            "tags": []
          },
          "execution_count": 35
        }
      ]
    },
    {
      "cell_type": "markdown",
      "metadata": {
        "id": "fDrZbyjcuW9v"
      },
      "source": [
        "- The indexes are given randomly to each unique word.\n",
        "- Let us now instantiate an iterator that iterates through each and every text."
      ]
    },
    {
      "cell_type": "code",
      "metadata": {
        "id": "cATiuZ7orZP9"
      },
      "source": [
        "# Set batch size\n",
        "BATCH_SIZE = 128\n",
        "device = torch.device('cuda' if torch.cuda.is_available() else 'cpu') # Setting up a Device based on GPU availability.\n",
        "\n",
        "#Instantiate an iterator.\n",
        "train_iterator, valid_iterator = data.BucketIterator.splits(\n",
        "    (train_ds, val_ds), \n",
        "    batch_size = BATCH_SIZE,\n",
        "    sort_within_batch = True,\n",
        "    device = device)"
      ],
      "execution_count": 36,
      "outputs": []
    },
    {
      "cell_type": "markdown",
      "metadata": {
        "id": "nP9zTVzOv7td"
      },
      "source": [
        "## Building the Model\n",
        "- Let us choose a LSTM Architecture as a model and then try to stack word embeddings layer with that one."
      ]
    },
    {
      "cell_type": "code",
      "metadata": {
        "id": "BCQRF59-YyY3"
      },
      "source": [
        "class LSTM_Classifier(nn.Module):\n",
        "    def __init__(self, vocab_size, embedding_dim, hidden_dim, output_dim, n_layers, \n",
        "                 bidirectional, dropout, pad_idx):\n",
        "        \n",
        "        super().__init__()\n",
        "        # Using Embedding Layer.\n",
        "        self.embedding = nn.Embedding(vocab_size, embedding_dim, padding_idx = pad_idx)\n",
        "        # Using Bidirectional LSTM Layer.\n",
        "        self.rnn = nn.LSTM(embedding_dim, \n",
        "                           hidden_dim, \n",
        "                           num_layers=n_layers, \n",
        "                           bidirectional=bidirectional, \n",
        "                           dropout=dropout)\n",
        "        \n",
        "        self.fc1 = nn.Linear(hidden_dim * 2, hidden_dim) # Hidden dimension is multiplied by 2 because of Bidirectional.\n",
        "        \n",
        "        self.fc2 = nn.Linear(hidden_dim, 1)\n",
        "        \n",
        "        self.dropout = nn.Dropout(dropout)\n",
        "        \n",
        "    def forward(self, text, text_lengths):\n",
        "        \n",
        "        # text = [sent len, batch size]\n",
        "        \n",
        "        embedded = self.embedding(text)\n",
        "        \n",
        "        # embedded = [sent len, batch size, emb dim]\n",
        "        \n",
        "        #pack sequence\n",
        "        packed_embedded = nn.utils.rnn.pack_padded_sequence(embedded, text_lengths)\n",
        "        \n",
        "        packed_output, (hidden, cell) = self.rnn(packed_embedded)\n",
        "        \n",
        "        #unpack sequence\n",
        "        # output, output_lengths = nn.utils.rnn.pad_packed_sequence(packed_output)\n",
        "\n",
        "        # output = [sent len, batch size, hid dim * num directions]\n",
        "        # output over padding tokens are zero tensors\n",
        "        \n",
        "        # hidden = [num layers * num directions, batch size, hid dim]\n",
        "        # cell = [num layers * num directions, batch size, hid dim]\n",
        "        \n",
        "        # concat the final forward (hidden[-2,:,:]) and backward (hidden[-1,:,:]) hidden layers\n",
        "        # and apply dropout\n",
        "        \n",
        "        hidden = self.dropout(torch.cat((hidden[-2,:,:], hidden[-1,:,:]), dim = 1))\n",
        "        output = self.fc1(hidden)\n",
        "        output = self.dropout(self.fc2(output))\n",
        "                \n",
        "        #hidden = [batch size, hid dim * num directions]\n",
        "            \n",
        "        return output"
      ],
      "execution_count": 38,
      "outputs": []
    },
    {
      "cell_type": "markdown",
      "metadata": {
        "id": "xMs2S8YdtdaF"
      },
      "source": [
        "- Let us define our **HyperParameters** for the current Architecture."
      ]
    },
    {
      "cell_type": "code",
      "metadata": {
        "id": "cL3heNSvryuC"
      },
      "source": [
        "# Setting up the Hyperparameters.\n",
        "num_epochs = 10 # Num of times to make propagation.\n",
        "learning_rate = 0.001 # Setting up a Learning rate.\n",
        "\n",
        "INPUT_DIM = len(text_field.vocab) # Desired or fixed size of the Vocabulary of the Text Corpus.\n",
        "EMBEDDING_DIM = 200 # Number of Embedding Dimension we would want to give to a single token of a text.\n",
        "HIDDEN_DIM = 256 # Number of Hidden cells or (Unoficially can be regarded to Neurons).\n",
        "OUTPUT_DIM = 1 # Number of output neurons. Using 1 for binary classifier problem.\n",
        "N_LAYERS = 2 # Number of Neural Network Layers.\n",
        "BIDIRECTIONAL = True # If given true then applies bidirectional RNN\n",
        "DROPOUT = 0.2\n",
        "PAD_IDX = text_field.vocab.stoi[text_field.pad_token] # padding index sizes."
      ],
      "execution_count": 41,
      "outputs": []
    },
    {
      "cell_type": "markdown",
      "metadata": {
        "id": "vZIPUiUPtldi"
      },
      "source": [
        "- Now let us instantiate an object for our RNN Model class."
      ]
    },
    {
      "cell_type": "code",
      "metadata": {
        "id": "bgXDA-vHtTuo"
      },
      "source": [
        "# Declaring a LSTM Biderectional Model.\n",
        "lstm_model = LSTM_Classifier(INPUT_DIM, \n",
        "            EMBEDDING_DIM, \n",
        "            HIDDEN_DIM, \n",
        "            OUTPUT_DIM, \n",
        "            N_LAYERS, \n",
        "            BIDIRECTIONAL, \n",
        "            DROPOUT, \n",
        "            PAD_IDX)"
      ],
      "execution_count": 42,
      "outputs": []
    },
    {
      "cell_type": "markdown",
      "metadata": {
        "id": "5xIBI_PyuPY9"
      },
      "source": [
        "- Let us have a Look at our Model Parameters."
      ]
    },
    {
      "cell_type": "code",
      "metadata": {
        "id": "DfITe7hRYygb",
        "colab": {
          "base_uri": "https://localhost:8080/"
        },
        "outputId": "55e794c1-18c7-4f92-ac10-717142c94ccb"
      },
      "source": [
        "# Printing the Model architecture\n",
        "print(lstm_model)\n",
        "\n",
        "# Counting the No. of Model parameters\n",
        "sum_parameters = 0\n",
        "for p in lstm_model.parameters():\n",
        "    sum_parameters = sum_parameters + p.numel()\n",
        "    \n",
        "print(f'The model has {sum_parameters} trainable parameters')"
      ],
      "execution_count": 43,
      "outputs": [
        {
          "output_type": "stream",
          "text": [
            "LSTM_Classifier(\n",
            "  (embedding): Embedding(42569, 200, padding_idx=1)\n",
            "  (rnn): LSTM(200, 256, num_layers=2, dropout=0.2, bidirectional=True)\n",
            "  (fc1): Linear(in_features=512, out_features=256, bias=True)\n",
            "  (fc2): Linear(in_features=256, out_features=1, bias=True)\n",
            "  (dropout): Dropout(p=0.2, inplace=False)\n",
            ")\n",
            "The model has 11160329 trainable parameters\n"
          ],
          "name": "stdout"
        }
      ]
    },
    {
      "cell_type": "markdown",
      "metadata": {
        "id": "3u-y_knQuTxn"
      },
      "source": [
        "- Let us look at our padded Sequences."
      ]
    },
    {
      "cell_type": "code",
      "metadata": {
        "colab": {
          "base_uri": "https://localhost:8080/"
        },
        "id": "E7trVt7IuTe0",
        "outputId": "0cab0577-0883-4107-b6e4-c059921623c3"
      },
      "source": [
        "lstm_model.embedding.weight.data[PAD_IDX] = torch.zeros(EMBEDDING_DIM)\n",
        "\n",
        "print(lstm_model.embedding.weight.data)"
      ],
      "execution_count": 44,
      "outputs": [
        {
          "output_type": "stream",
          "text": [
            "tensor([[-0.6946, -1.3275, -1.1976,  ...,  0.5030, -1.0236, -1.7686],\n",
            "        [ 0.0000,  0.0000,  0.0000,  ...,  0.0000,  0.0000,  0.0000],\n",
            "        [-2.0520, -0.7852,  0.1239,  ...,  1.0829, -1.2492,  0.7911],\n",
            "        ...,\n",
            "        [-0.2190, -0.6227,  0.7418,  ..., -0.2721, -0.8060,  1.4420],\n",
            "        [-1.4085,  1.9814,  0.3051,  ..., -1.9525, -0.3150, -0.1605],\n",
            "        [ 0.1957, -1.1390,  0.8791,  ..., -0.2060, -2.0420,  0.4384]])\n"
          ],
          "name": "stdout"
        }
      ]
    },
    {
      "cell_type": "markdown",
      "metadata": {
        "id": "9XIzGPivu-Ow"
      },
      "source": [
        "- Let us set some more of the Important Model Parameters."
      ]
    },
    {
      "cell_type": "code",
      "metadata": {
        "id": "TLWeKzLWKXBV"
      },
      "source": [
        "# Setting Model to current Device.\n",
        "lstm_model.to(device) #CPU to GPU\n",
        "# Loss and optimizer\n",
        "criterion = nn.BCEWithLogitsLoss()\n",
        "optimizer = torch.optim.Adam(lstm_model.parameters(), lr=learning_rate)\n",
        "\n",
        "# Defining a Metric that calculates the Accuracy.\n",
        "def binary_accuracy(preds, y):\n",
        "    \"\"\"\n",
        "    Returns accuracy per batch, i.e. if you get 8/10 right, this returns 0.8, NOT 8\n",
        "    \"\"\"\n",
        "\n",
        "    #round predictions to the closest integer\n",
        "    rounded_preds = torch.round(torch.sigmoid(preds))\n",
        "    correct = (rounded_preds == y).float() #convert into float for division \n",
        "    acc = correct.sum() / len(correct)\n",
        "    return acc"
      ],
      "execution_count": 46,
      "outputs": []
    },
    {
      "cell_type": "markdown",
      "metadata": {
        "id": "pdF3fi68vKC3"
      },
      "source": [
        "# Defining Training and Evaluating Methods\n",
        "- We would be defining some functions that can train our model and also evaluate the performane."
      ]
    },
    {
      "cell_type": "code",
      "metadata": {
        "id": "PZaDiZU5Kta6"
      },
      "source": [
        "# A Function that can Train our model at each and every epoch. \n",
        "\n",
        "def train(model, iterator):\n",
        "    \n",
        "    epoch_loss = 0 # Instantiating the loss as zero.\n",
        "    epoch_accuracy = 0 # Instantiating the accuaracy accuracy.\n",
        "    \n",
        "    model.train() # This actually lets the model to work with dropout.\n",
        "    \n",
        "    for batch in iterator: # Iterating via For loop the Data_Iterator.\n",
        "        text, text_lengths = batch.review # Unpacking text and its lengths from a single batch.\n",
        "        \n",
        "        optimizer.zero_grad() \n",
        "        predictions = model(text, text_lengths.cpu()).squeeze(1) # Setting lengths to CPU and Squeezing the model for a while.\n",
        "        batch_loss = criterion(predictions, batch.sentiment) # Calculating the Loss.\n",
        "        batch_accuracy = binary_accuracy(predictions, batch.sentiment) # Calculating the Accuracy.\n",
        "\n",
        "        batch_loss.backward() # BackPropagate Step\n",
        "        optimizer.step() # Setting Optimizer a step ahead\n",
        "        \n",
        "        epoch_loss += batch_loss.item()\n",
        "        epoch_accuracy += batch_accuracy.item()\n",
        "        \n",
        "\n",
        "    return epoch_loss / len(iterator), epoch_accuracy / len(iterator) # Returning loss and accuracy"
      ],
      "execution_count": 50,
      "outputs": []
    },
    {
      "cell_type": "code",
      "metadata": {
        "id": "lS9EhbjRQTb5"
      },
      "source": [
        "# A function that Evaluates the performance of the model at each epoch.\n",
        "\n",
        "def evaluate(model, iterator):\n",
        "    \n",
        "    epoch_loss = 0 # Instantiating the loss as zero.\n",
        "    epoch_accuracy = 0 # Instantiating the accuaracy accuracy.\n",
        "    \n",
        "    model.eval() # Unlocking all the Nodes to get rid of Dropout.\n",
        "    \n",
        "    with torch.no_grad():\n",
        "        for batch in iterator:\n",
        "            text, text_lengths = batch.review\n",
        "            predictions = model(text, text_lengths.cpu()).squeeze(1)\n",
        "            loss = criterion(predictions, batch.sentiment)\n",
        "            acc = binary_accuracy(predictions, batch.sentiment)\n",
        "            epoch_loss += loss.item()\n",
        "            epoch_accuracy += acc.item()\n",
        "        \n",
        "    return epoch_loss / len(iterator) ,epoch_accuracy / len(iterator)"
      ],
      "execution_count": 54,
      "outputs": []
    },
    {
      "cell_type": "markdown",
      "metadata": {
        "id": "YphjNKCXvkB1"
      },
      "source": [
        "# Training our Model"
      ]
    },
    {
      "cell_type": "code",
      "metadata": {
        "colab": {
          "base_uri": "https://localhost:8080/"
        },
        "id": "JBr8ga6CQTiY",
        "outputId": "f74121ca-a7f7-4a2a-811d-8e243862cb04"
      },
      "source": [
        "t = time.time()\n",
        "loss=[]\n",
        "acc=[]\n",
        "val_acc=[]\n",
        "\n",
        "for epoch in range(num_epochs):\n",
        "    \n",
        "    train_loss, train_acc = train(lstm_model, train_iterator)\n",
        "    valid_loss, valid_acc = evaluate(lstm_model, valid_iterator)\n",
        "    \n",
        "    print(f'\\tTrain Loss: {train_loss:.3f} | Train Acc: {train_acc*100:.2f}%')\n",
        "    print(f'\\tValid Loss: {valid_loss:.3f} | Valid Acc: {valid_acc*100:.2f}%')\n",
        "    \n",
        "    loss.append(train_loss)\n",
        "    acc.append(train_acc)\n",
        "    val_acc.append(valid_acc)\n",
        "    \n",
        "print(f'time:{time.time()-t:.3f}')"
      ],
      "execution_count": 55,
      "outputs": [
        {
          "output_type": "stream",
          "text": [
            "\tTrain Loss: 0.534 | Train Acc: 71.16%\n",
            "\tValid Loss: 0.453 | Valid Acc: 78.55%\n",
            "\tTrain Loss: 0.368 | Train Acc: 80.78%\n",
            "\tValid Loss: 0.290 | Valid Acc: 87.72%\n",
            "\tTrain Loss: 0.307 | Train Acc: 83.74%\n",
            "\tValid Loss: 0.272 | Valid Acc: 89.05%\n",
            "\tTrain Loss: 0.254 | Train Acc: 85.88%\n",
            "\tValid Loss: 0.264 | Valid Acc: 89.45%\n",
            "\tTrain Loss: 0.222 | Train Acc: 87.20%\n",
            "\tValid Loss: 0.285 | Valid Acc: 89.36%\n",
            "\tTrain Loss: 0.193 | Train Acc: 88.18%\n",
            "\tValid Loss: 0.306 | Valid Acc: 90.14%\n",
            "\tTrain Loss: 0.175 | Train Acc: 88.73%\n",
            "\tValid Loss: 0.320 | Valid Acc: 89.84%\n",
            "\tTrain Loss: 0.165 | Train Acc: 89.27%\n",
            "\tValid Loss: 0.328 | Valid Acc: 89.10%\n",
            "\tTrain Loss: 0.161 | Train Acc: 89.38%\n",
            "\tValid Loss: 0.415 | Valid Acc: 89.67%\n",
            "\tTrain Loss: 0.151 | Train Acc: 89.55%\n",
            "\tValid Loss: 0.446 | Valid Acc: 89.34%\n",
            "time:731.787\n"
          ],
          "name": "stdout"
        }
      ]
    },
    {
      "cell_type": "markdown",
      "metadata": {
        "id": "NLh_lNSH0AwX"
      },
      "source": [
        "# Visualizing our Results.\n",
        "- Let us normalize all our Scores and try to visualize the results and try to analyze and choose best epoch for the LSTM Model."
      ]
    },
    {
      "cell_type": "code",
      "metadata": {
        "colab": {
          "base_uri": "https://localhost:8080/",
          "height": 312
        },
        "id": "B0pggCx70AmB",
        "outputId": "8e7a574b-9caf-4345-8345-a7332b49fd21"
      },
      "source": [
        "plt.xlabel(\"Number of Epochs\")\n",
        "plt.ylabel(\"Normalised measure of loss and accuracy\")\n",
        "x_len=list(range(len(acc)))\n",
        "plt.axis([0, max(x_len), 0, 1])\n",
        "plt.title('result of LSTM')\n",
        "loss=np.asarray(loss)/max(loss)\n",
        "plt.plot(x_len, loss, 'r',label=\"Train loss\")\n",
        "plt.plot(x_len, acc, 'b', label=\"Training accuracy\")\n",
        "plt.plot(x_len, val_acc, 'g', label=\"validation accuracy\")\n",
        "plt.legend(bbox_to_anchor=(1.05, 1), loc=2, borderaxespad=0.2)\n",
        "plt.show"
      ],
      "execution_count": 59,
      "outputs": [
        {
          "output_type": "execute_result",
          "data": {
            "text/plain": [
              "<function matplotlib.pyplot.show>"
            ]
          },
          "metadata": {
            "tags": []
          },
          "execution_count": 59
        },
        {
          "output_type": "display_data",
          "data": {
            "image/png": "[encoded data removed]",
            "text/plain": [
              "<Figure size 432x288 with 1 Axes>"
            ]
          },
          "metadata": {
            "tags": [],
            "needs_background": "light"
          }
        }
      ]
    },
    {
      "cell_type": "markdown",
      "metadata": {
        "id": "W5I5G4nM1A6G"
      },
      "source": [
        "- Looks like When Model runs for approximately **7 Epochs** the Bias Variance parameter is being balanced.\n",
        "# THANK YOU !"
      ]
    }
  ]
}